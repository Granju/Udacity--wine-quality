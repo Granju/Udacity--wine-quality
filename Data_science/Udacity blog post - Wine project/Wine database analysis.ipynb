{
 "cells": [
  {
   "cell_type": "code",
   "execution_count": 1,
   "id": "e0621d70",
   "metadata": {},
   "outputs": [],
   "source": [
    "import pandas as pd\n",
    "import numpy as np\n",
    "import matplotlib.pyplot as plt\n",
    "import seaborn as sn\n",
    "from sklearn.linear_model import LinearRegression\n",
    "from sklearn.model_selection import train_test_split\n",
    "from sklearn.metrics import r2_score, mean_squared_error\n",
    "%matplotlib inline\n",
    "\n",
    "df = pd.read_csv('winemag-data-130k-v2.csv', index_col=[0])"
   ]
  },
  {
   "cell_type": "code",
   "execution_count": 2,
   "id": "57fb23ce",
   "metadata": {},
   "outputs": [
    {
     "data": {
      "text/html": [
       "<div>\n",
       "<style scoped>\n",
       "    .dataframe tbody tr th:only-of-type {\n",
       "        vertical-align: middle;\n",
       "    }\n",
       "\n",
       "    .dataframe tbody tr th {\n",
       "        vertical-align: top;\n",
       "    }\n",
       "\n",
       "    .dataframe thead th {\n",
       "        text-align: right;\n",
       "    }\n",
       "</style>\n",
       "<table border=\"1\" class=\"dataframe\">\n",
       "  <thead>\n",
       "    <tr style=\"text-align: right;\">\n",
       "      <th></th>\n",
       "      <th>country</th>\n",
       "      <th>description</th>\n",
       "      <th>designation</th>\n",
       "      <th>points</th>\n",
       "      <th>price</th>\n",
       "      <th>province</th>\n",
       "      <th>region_1</th>\n",
       "      <th>region_2</th>\n",
       "      <th>taster_name</th>\n",
       "      <th>taster_twitter_handle</th>\n",
       "      <th>title</th>\n",
       "      <th>variety</th>\n",
       "      <th>winery</th>\n",
       "    </tr>\n",
       "  </thead>\n",
       "  <tbody>\n",
       "    <tr>\n",
       "      <th>0</th>\n",
       "      <td>Italy</td>\n",
       "      <td>Aromas include tropical fruit, broom, brimston...</td>\n",
       "      <td>Vulkà Bianco</td>\n",
       "      <td>87</td>\n",
       "      <td>NaN</td>\n",
       "      <td>Sicily &amp; Sardinia</td>\n",
       "      <td>Etna</td>\n",
       "      <td>NaN</td>\n",
       "      <td>Kerin O’Keefe</td>\n",
       "      <td>@kerinokeefe</td>\n",
       "      <td>Nicosia 2013 Vulkà Bianco  (Etna)</td>\n",
       "      <td>White Blend</td>\n",
       "      <td>Nicosia</td>\n",
       "    </tr>\n",
       "    <tr>\n",
       "      <th>1</th>\n",
       "      <td>Portugal</td>\n",
       "      <td>This is ripe and fruity, a wine that is smooth...</td>\n",
       "      <td>Avidagos</td>\n",
       "      <td>87</td>\n",
       "      <td>15.0</td>\n",
       "      <td>Douro</td>\n",
       "      <td>NaN</td>\n",
       "      <td>NaN</td>\n",
       "      <td>Roger Voss</td>\n",
       "      <td>@vossroger</td>\n",
       "      <td>Quinta dos Avidagos 2011 Avidagos Red (Douro)</td>\n",
       "      <td>Portuguese Red</td>\n",
       "      <td>Quinta dos Avidagos</td>\n",
       "    </tr>\n",
       "    <tr>\n",
       "      <th>2</th>\n",
       "      <td>US</td>\n",
       "      <td>Tart and snappy, the flavors of lime flesh and...</td>\n",
       "      <td>NaN</td>\n",
       "      <td>87</td>\n",
       "      <td>14.0</td>\n",
       "      <td>Oregon</td>\n",
       "      <td>Willamette Valley</td>\n",
       "      <td>Willamette Valley</td>\n",
       "      <td>Paul Gregutt</td>\n",
       "      <td>@paulgwine</td>\n",
       "      <td>Rainstorm 2013 Pinot Gris (Willamette Valley)</td>\n",
       "      <td>Pinot Gris</td>\n",
       "      <td>Rainstorm</td>\n",
       "    </tr>\n",
       "    <tr>\n",
       "      <th>3</th>\n",
       "      <td>US</td>\n",
       "      <td>Pineapple rind, lemon pith and orange blossom ...</td>\n",
       "      <td>Reserve Late Harvest</td>\n",
       "      <td>87</td>\n",
       "      <td>13.0</td>\n",
       "      <td>Michigan</td>\n",
       "      <td>Lake Michigan Shore</td>\n",
       "      <td>NaN</td>\n",
       "      <td>Alexander Peartree</td>\n",
       "      <td>NaN</td>\n",
       "      <td>St. Julian 2013 Reserve Late Harvest Riesling ...</td>\n",
       "      <td>Riesling</td>\n",
       "      <td>St. Julian</td>\n",
       "    </tr>\n",
       "    <tr>\n",
       "      <th>4</th>\n",
       "      <td>US</td>\n",
       "      <td>Much like the regular bottling from 2012, this...</td>\n",
       "      <td>Vintner's Reserve Wild Child Block</td>\n",
       "      <td>87</td>\n",
       "      <td>65.0</td>\n",
       "      <td>Oregon</td>\n",
       "      <td>Willamette Valley</td>\n",
       "      <td>Willamette Valley</td>\n",
       "      <td>Paul Gregutt</td>\n",
       "      <td>@paulgwine</td>\n",
       "      <td>Sweet Cheeks 2012 Vintner's Reserve Wild Child...</td>\n",
       "      <td>Pinot Noir</td>\n",
       "      <td>Sweet Cheeks</td>\n",
       "    </tr>\n",
       "  </tbody>\n",
       "</table>\n",
       "</div>"
      ],
      "text/plain": [
       "    country                                        description  \\\n",
       "0     Italy  Aromas include tropical fruit, broom, brimston...   \n",
       "1  Portugal  This is ripe and fruity, a wine that is smooth...   \n",
       "2        US  Tart and snappy, the flavors of lime flesh and...   \n",
       "3        US  Pineapple rind, lemon pith and orange blossom ...   \n",
       "4        US  Much like the regular bottling from 2012, this...   \n",
       "\n",
       "                          designation  points  price           province  \\\n",
       "0                        Vulkà Bianco      87    NaN  Sicily & Sardinia   \n",
       "1                            Avidagos      87   15.0              Douro   \n",
       "2                                 NaN      87   14.0             Oregon   \n",
       "3                Reserve Late Harvest      87   13.0           Michigan   \n",
       "4  Vintner's Reserve Wild Child Block      87   65.0             Oregon   \n",
       "\n",
       "              region_1           region_2         taster_name  \\\n",
       "0                 Etna                NaN       Kerin O’Keefe   \n",
       "1                  NaN                NaN          Roger Voss   \n",
       "2    Willamette Valley  Willamette Valley        Paul Gregutt   \n",
       "3  Lake Michigan Shore                NaN  Alexander Peartree   \n",
       "4    Willamette Valley  Willamette Valley        Paul Gregutt   \n",
       "\n",
       "  taster_twitter_handle                                              title  \\\n",
       "0          @kerinokeefe                  Nicosia 2013 Vulkà Bianco  (Etna)   \n",
       "1            @vossroger      Quinta dos Avidagos 2011 Avidagos Red (Douro)   \n",
       "2           @paulgwine       Rainstorm 2013 Pinot Gris (Willamette Valley)   \n",
       "3                   NaN  St. Julian 2013 Reserve Late Harvest Riesling ...   \n",
       "4           @paulgwine   Sweet Cheeks 2012 Vintner's Reserve Wild Child...   \n",
       "\n",
       "          variety               winery  \n",
       "0     White Blend              Nicosia  \n",
       "1  Portuguese Red  Quinta dos Avidagos  \n",
       "2      Pinot Gris            Rainstorm  \n",
       "3        Riesling           St. Julian  \n",
       "4      Pinot Noir         Sweet Cheeks  "
      ]
     },
     "execution_count": 2,
     "metadata": {},
     "output_type": "execute_result"
    }
   ],
   "source": [
    "df.head()"
   ]
  },
  {
   "cell_type": "code",
   "execution_count": 3,
   "id": "9ea2fd3d",
   "metadata": {},
   "outputs": [
    {
     "data": {
      "text/plain": [
       "(129971, 13)"
      ]
     },
     "execution_count": 3,
     "metadata": {},
     "output_type": "execute_result"
    }
   ],
   "source": [
    "df.shape"
   ]
  },
  {
   "cell_type": "code",
   "execution_count": 4,
   "id": "a4ca6f08",
   "metadata": {},
   "outputs": [
    {
     "data": {
      "text/plain": [
       "country                  0.000485\n",
       "description              0.000000\n",
       "designation              0.288257\n",
       "points                   0.000000\n",
       "price                    0.069215\n",
       "province                 0.000485\n",
       "region_1                 0.163475\n",
       "region_2                 0.611367\n",
       "taster_name              0.201922\n",
       "taster_twitter_handle    0.240154\n",
       "title                    0.000000\n",
       "variety                  0.000008\n",
       "winery                   0.000000\n",
       "dtype: float64"
      ]
     },
     "execution_count": 4,
     "metadata": {},
     "output_type": "execute_result"
    }
   ],
   "source": [
    "df.isnull().sum()/df.shape[0]"
   ]
  },
  {
   "cell_type": "code",
   "execution_count": 5,
   "id": "98e93fd8",
   "metadata": {},
   "outputs": [
    {
     "data": {
      "text/html": [
       "<div>\n",
       "<style scoped>\n",
       "    .dataframe tbody tr th:only-of-type {\n",
       "        vertical-align: middle;\n",
       "    }\n",
       "\n",
       "    .dataframe tbody tr th {\n",
       "        vertical-align: top;\n",
       "    }\n",
       "\n",
       "    .dataframe thead th {\n",
       "        text-align: right;\n",
       "    }\n",
       "</style>\n",
       "<table border=\"1\" class=\"dataframe\">\n",
       "  <thead>\n",
       "    <tr style=\"text-align: right;\">\n",
       "      <th></th>\n",
       "      <th>country</th>\n",
       "      <th>description</th>\n",
       "      <th>designation</th>\n",
       "      <th>points</th>\n",
       "      <th>price</th>\n",
       "      <th>province</th>\n",
       "      <th>region_1</th>\n",
       "      <th>region_2</th>\n",
       "      <th>taster_name</th>\n",
       "      <th>taster_twitter_handle</th>\n",
       "      <th>title</th>\n",
       "      <th>variety</th>\n",
       "      <th>winery</th>\n",
       "    </tr>\n",
       "  </thead>\n",
       "  <tbody>\n",
       "  </tbody>\n",
       "</table>\n",
       "</div>"
      ],
      "text/plain": [
       "Empty DataFrame\n",
       "Columns: [country, description, designation, points, price, province, region_1, region_2, taster_name, taster_twitter_handle, title, variety, winery]\n",
       "Index: []"
      ]
     },
     "execution_count": 5,
     "metadata": {},
     "output_type": "execute_result"
    }
   ],
   "source": [
    "df[(df['taster_name'].isnull()) & (df['taster_twitter_handle'].notnull())]"
   ]
  },
  {
   "cell_type": "code",
   "execution_count": 6,
   "id": "3f91ec43",
   "metadata": {},
   "outputs": [],
   "source": [
    "df.drop(['taster_twitter_handle'], axis=1, inplace=True)"
   ]
  },
  {
   "cell_type": "markdown",
   "id": "95452529",
   "metadata": {},
   "source": [
    "Since the numbers of wineries to be attributed a country is quite short, I decided to do some internet searches and fill in the country NaN with the countries fo these wineries."
   ]
  },
  {
   "cell_type": "code",
   "execution_count": 7,
   "id": "bd8949ec",
   "metadata": {},
   "outputs": [
    {
     "data": {
      "text/plain": [
       "array(['Gotsa Family Wines', 'Barton & Guestier',\n",
       "       'Kakhetia Traditional Winemaking', 'Tsililis', 'Ross-idi',\n",
       "       'Orbelus', 'St. Donat', 'Familia Deicas', 'Bartho Eksteen',\n",
       "       'Stone Castle', 'Teliani Valley', 'Undurraga', 'Mt. Beautiful',\n",
       "       'Neumeister', 'Bachelder', 'Chilcas', 'Santa Ema', 'Psagot',\n",
       "       'Newton Johnson', 'Ktima Voyatzi', 'Lismore', 'Logodaj',\n",
       "       'Somlói Vándor', 'Les Frères Dutruy', 'El Capricho',\n",
       "       'Amiran Vepkhvadze', 'Büyülübağ'], dtype=object)"
      ]
     },
     "execution_count": 7,
     "metadata": {},
     "output_type": "execute_result"
    }
   ],
   "source": [
    "producers_to_locate = df[df.country.isnull()].winery.unique()\n",
    "producers_to_locate"
   ]
  },
  {
   "cell_type": "code",
   "execution_count": 8,
   "id": "72d3a085",
   "metadata": {},
   "outputs": [],
   "source": [
    "Country = ['Georgia', \n",
    "           'France',\n",
    "           'Georgia',\n",
    "           'Greece', \n",
    "           'Bulgaria',\n",
    "           'Bulgaria', \n",
    "           'Hungary', \n",
    "           'Uruguay', \n",
    "           'South Africa',\n",
    "           'Kosovo', \n",
    "           'Georgia',\n",
    "           'Chile', \n",
    "           'New Zealand',\n",
    "           'Austria', \n",
    "           'US', \n",
    "           'Chile',\n",
    "           'Chile',\n",
    "           'Israel',\n",
    "           'South Africa',\n",
    "           'Greece', \n",
    "           'South Africa',\n",
    "           'South Africa',\n",
    "           'Hungary',\n",
    "           'Switzerland', \n",
    "           'Uruguay',\n",
    "           'Georgia', \n",
    "           'Turkey']\n",
    "           \n",
    "producers_to_locate_dict = dict(zip(list(producers_to_locate), Country))"
   ]
  },
  {
   "cell_type": "code",
   "execution_count": 9,
   "id": "513d5a10",
   "metadata": {},
   "outputs": [],
   "source": [
    "for producer in producers_to_locate:\n",
    "    df.loc[df['winery'] == producer, 'country'] = [producers_to_locate_dict[producer]] * len(df.loc[df['winery'] == producer, 'country'])\n",
    "    "
   ]
  },
  {
   "cell_type": "code",
   "execution_count": 10,
   "id": "e9b2b652",
   "metadata": {},
   "outputs": [
    {
     "data": {
      "text/plain": [
       "country        0.000000\n",
       "description    0.000000\n",
       "designation    0.288257\n",
       "points         0.000000\n",
       "price          0.069215\n",
       "province       0.000485\n",
       "region_1       0.163475\n",
       "region_2       0.611367\n",
       "taster_name    0.201922\n",
       "title          0.000000\n",
       "variety        0.000008\n",
       "winery         0.000000\n",
       "dtype: float64"
      ]
     },
     "execution_count": 10,
     "metadata": {},
     "output_type": "execute_result"
    }
   ],
   "source": [
    "df.isnull().sum()/df.shape[0]"
   ]
  },
  {
   "cell_type": "code",
   "execution_count": 11,
   "id": "670ba39e",
   "metadata": {},
   "outputs": [
    {
     "data": {
      "text/html": [
       "<div>\n",
       "<style scoped>\n",
       "    .dataframe tbody tr th:only-of-type {\n",
       "        vertical-align: middle;\n",
       "    }\n",
       "\n",
       "    .dataframe tbody tr th {\n",
       "        vertical-align: top;\n",
       "    }\n",
       "\n",
       "    .dataframe thead th {\n",
       "        text-align: right;\n",
       "    }\n",
       "</style>\n",
       "<table border=\"1\" class=\"dataframe\">\n",
       "  <thead>\n",
       "    <tr style=\"text-align: right;\">\n",
       "      <th></th>\n",
       "      <th>country</th>\n",
       "      <th>description</th>\n",
       "      <th>designation</th>\n",
       "      <th>points</th>\n",
       "      <th>price</th>\n",
       "      <th>province</th>\n",
       "      <th>region_1</th>\n",
       "      <th>region_2</th>\n",
       "      <th>taster_name</th>\n",
       "      <th>title</th>\n",
       "      <th>variety</th>\n",
       "      <th>winery</th>\n",
       "    </tr>\n",
       "  </thead>\n",
       "  <tbody>\n",
       "    <tr>\n",
       "      <th>86909</th>\n",
       "      <td>Chile</td>\n",
       "      <td>A chalky, dusty mouthfeel nicely balances this...</td>\n",
       "      <td>NaN</td>\n",
       "      <td>88</td>\n",
       "      <td>17.0</td>\n",
       "      <td>Maipo Valley</td>\n",
       "      <td>NaN</td>\n",
       "      <td>NaN</td>\n",
       "      <td>NaN</td>\n",
       "      <td>Carmen 1999  (Maipo Valley)</td>\n",
       "      <td>NaN</td>\n",
       "      <td>Carmen</td>\n",
       "    </tr>\n",
       "  </tbody>\n",
       "</table>\n",
       "</div>"
      ],
      "text/plain": [
       "      country                                        description designation  \\\n",
       "86909   Chile  A chalky, dusty mouthfeel nicely balances this...         NaN   \n",
       "\n",
       "       points  price      province region_1 region_2 taster_name  \\\n",
       "86909      88   17.0  Maipo Valley      NaN      NaN         NaN   \n",
       "\n",
       "                             title variety  winery  \n",
       "86909  Carmen 1999  (Maipo Valley)     NaN  Carmen  "
      ]
     },
     "execution_count": 11,
     "metadata": {},
     "output_type": "execute_result"
    }
   ],
   "source": [
    "df[df.variety.isnull()]"
   ]
  },
  {
   "cell_type": "code",
   "execution_count": 12,
   "id": "9ce5c382",
   "metadata": {},
   "outputs": [],
   "source": [
    "df.loc[df.variety.isnull(), 'variety'] = 'Cabernet Blend'"
   ]
  },
  {
   "cell_type": "code",
   "execution_count": 13,
   "id": "afbc1fc0",
   "metadata": {},
   "outputs": [
    {
     "data": {
      "text/plain": [
       "country        0.000000\n",
       "description    0.000000\n",
       "designation    0.288257\n",
       "points         0.000000\n",
       "price          0.069215\n",
       "province       0.000485\n",
       "region_1       0.163475\n",
       "region_2       0.611367\n",
       "taster_name    0.201922\n",
       "title          0.000000\n",
       "variety        0.000000\n",
       "winery         0.000000\n",
       "dtype: float64"
      ]
     },
     "execution_count": 13,
     "metadata": {},
     "output_type": "execute_result"
    }
   ],
   "source": [
    "df.isnull().sum()/df.shape[0]"
   ]
  },
  {
   "cell_type": "code",
   "execution_count": 20,
   "id": "43d05ec4",
   "metadata": {},
   "outputs": [
    {
     "data": {
      "image/png": "[encoded data removed]",
      "text/plain": [
       "<Figure size 432x288 with 1 Axes>"
      ]
     },
     "metadata": {
      "needs_background": "light"
     },
     "output_type": "display_data"
    }
   ],
   "source": [
    "(df.points.value_counts().sort_index()).plot(kind=\"bar\");"
   ]
  },
  {
   "cell_type": "code",
   "execution_count": 21,
   "id": "ffd8a8c7",
   "metadata": {},
   "outputs": [
    {
     "data": {
      "text/plain": [
       "count    120975.000000\n",
       "mean         35.363389\n",
       "std          41.022218\n",
       "min           4.000000\n",
       "25%          17.000000\n",
       "50%          25.000000\n",
       "75%          42.000000\n",
       "max        3300.000000\n",
       "Name: price, dtype: float64"
      ]
     },
     "execution_count": 21,
     "metadata": {},
     "output_type": "execute_result"
    }
   ],
   "source": [
    "df.price.describe()"
   ]
  },
  {
   "cell_type": "code",
   "execution_count": 22,
   "id": "06800697",
   "metadata": {},
   "outputs": [
    {
     "data": {
      "image/png": "[encoded data removed]",
      "text/plain": [
       "<Figure size 432x288 with 1 Axes>"
      ]
     },
     "metadata": {
      "needs_background": "light"
     },
     "output_type": "display_data"
    }
   ],
   "source": [
    "(df.price.value_counts()).plot(kind=\"hist\", bins=[0, 5, 10, 15, 20, 25, 30, 35, 40]);"
   ]
  },
  {
   "cell_type": "code",
   "execution_count": 23,
   "id": "a8c094a1",
   "metadata": {},
   "outputs": [
    {
     "data": {
      "text/plain": [
       "<AxesSubplot:ylabel='country'>"
      ]
     },
     "execution_count": 23,
     "metadata": {},
     "output_type": "execute_result"
    },
    {
     "data": {
      "image/png": "[encoded data removed]",
      "text/plain": [
       "<Figure size 432x288 with 1 Axes>"
      ]
     },
     "metadata": {},
     "output_type": "display_data"
    }
   ],
   "source": [
    "country_val = df.country.value_counts()\n",
    "(country_val[:11]).plot(kind='pie')"
   ]
  },
  {
   "cell_type": "code",
   "execution_count": 24,
   "id": "e5ef14b7",
   "metadata": {},
   "outputs": [],
   "source": [
    "def find_vintage(wine):\n",
    "    years = np.arange(1900, 2022).astype(str)\n",
    "    for word in wine.split():\n",
    "        if word in years:\n",
    "            return int(word)"
   ]
  },
  {
   "cell_type": "code",
   "execution_count": 25,
   "id": "13b119ff",
   "metadata": {},
   "outputs": [],
   "source": [
    "df['vintage'] = df.title.apply(find_vintage)"
   ]
  },
  {
   "cell_type": "code",
   "execution_count": 26,
   "id": "f28286e4",
   "metadata": {},
   "outputs": [
    {
     "data": {
      "text/plain": [
       "count    125345.000000\n",
       "mean       2010.671291\n",
       "std           3.797903\n",
       "min        1904.000000\n",
       "25%        2009.000000\n",
       "50%        2011.000000\n",
       "75%        2013.000000\n",
       "max        2017.000000\n",
       "Name: vintage, dtype: float64"
      ]
     },
     "execution_count": 26,
     "metadata": {},
     "output_type": "execute_result"
    }
   ],
   "source": [
    "df.vintage.describe()"
   ]
  },
  {
   "cell_type": "code",
   "execution_count": 27,
   "id": "e5bc4f77",
   "metadata": {},
   "outputs": [
    {
     "data": {
      "text/plain": [
       "country        0.000000\n",
       "description    0.000000\n",
       "designation    0.288257\n",
       "points         0.000000\n",
       "price          0.069215\n",
       "province       0.000485\n",
       "region_1       0.163475\n",
       "region_2       0.611367\n",
       "taster_name    0.201922\n",
       "title          0.000000\n",
       "variety        0.000000\n",
       "winery         0.000000\n",
       "vintage        0.035593\n",
       "dtype: float64"
      ]
     },
     "execution_count": 27,
     "metadata": {},
     "output_type": "execute_result"
    }
   ],
   "source": [
    "df.isnull().sum()/df.shape[0]"
   ]
  },
  {
   "cell_type": "markdown",
   "id": "4ee55259",
   "metadata": {},
   "source": [
    "Questions:\n",
    "1. Which wine producing countries offer best value for money?\n",
    "2. Which quantitative variable correlates best with price of a wine?\n",
    "3. How well can we predict the average score of a wine from this dataset?"
   ]
  },
  {
   "cell_type": "markdown",
   "id": "a8d602d9",
   "metadata": {},
   "source": [
    "**Which wine producing countries offer best value for money?**"
   ]
  },
  {
   "cell_type": "code",
   "execution_count": 95,
   "id": "c257c471",
   "metadata": {},
   "outputs": [],
   "source": [
    "df['quality_for_money'] = df['points']/df['price']"
   ]
  },
  {
   "cell_type": "code",
   "execution_count": 122,
   "id": "42e0a300",
   "metadata": {},
   "outputs": [],
   "source": [
    "quality_for_money_per_country = df.groupby('country').quality_for_money.agg(['mean', 'count']).reset_index().sort_values(by='mean', ascending=False)"
   ]
  },
  {
   "cell_type": "code",
   "execution_count": 123,
   "id": "dbb594fe",
   "metadata": {},
   "outputs": [
    {
     "data": {
      "text/html": [
       "<div>\n",
       "<style scoped>\n",
       "    .dataframe tbody tr th:only-of-type {\n",
       "        vertical-align: middle;\n",
       "    }\n",
       "\n",
       "    .dataframe tbody tr th {\n",
       "        vertical-align: top;\n",
       "    }\n",
       "\n",
       "    .dataframe thead th {\n",
       "        text-align: right;\n",
       "    }\n",
       "</style>\n",
       "<table border=\"1\" class=\"dataframe\">\n",
       "  <thead>\n",
       "    <tr style=\"text-align: right;\">\n",
       "      <th></th>\n",
       "      <th>country</th>\n",
       "      <th>mean</th>\n",
       "      <th>count</th>\n",
       "    </tr>\n",
       "  </thead>\n",
       "  <tbody>\n",
       "    <tr>\n",
       "      <th>23</th>\n",
       "      <td>Kosovo</td>\n",
       "      <td>10.627622</td>\n",
       "      <td>4</td>\n",
       "    </tr>\n",
       "    <tr>\n",
       "      <th>42</th>\n",
       "      <td>Ukraine</td>\n",
       "      <td>9.671551</td>\n",
       "      <td>14</td>\n",
       "    </tr>\n",
       "    <tr>\n",
       "      <th>33</th>\n",
       "      <td>Romania</td>\n",
       "      <td>8.873497</td>\n",
       "      <td>120</td>\n",
       "    </tr>\n",
       "    <tr>\n",
       "      <th>20</th>\n",
       "      <td>India</td>\n",
       "      <td>7.129465</td>\n",
       "      <td>9</td>\n",
       "    </tr>\n",
       "    <tr>\n",
       "      <th>4</th>\n",
       "      <td>Bosnia and Herzegovina</td>\n",
       "      <td>6.935897</td>\n",
       "      <td>2</td>\n",
       "    </tr>\n",
       "    <tr>\n",
       "      <th>6</th>\n",
       "      <td>Bulgaria</td>\n",
       "      <td>6.809304</td>\n",
       "      <td>151</td>\n",
       "    </tr>\n",
       "    <tr>\n",
       "      <th>28</th>\n",
       "      <td>Moldova</td>\n",
       "      <td>6.554833</td>\n",
       "      <td>59</td>\n",
       "    </tr>\n",
       "    <tr>\n",
       "      <th>1</th>\n",
       "      <td>Armenia</td>\n",
       "      <td>6.040476</td>\n",
       "      <td>2</td>\n",
       "    </tr>\n",
       "    <tr>\n",
       "      <th>8</th>\n",
       "      <td>Chile</td>\n",
       "      <td>5.772730</td>\n",
       "      <td>4419</td>\n",
       "    </tr>\n",
       "    <tr>\n",
       "      <th>31</th>\n",
       "      <td>Peru</td>\n",
       "      <td>5.629018</td>\n",
       "      <td>16</td>\n",
       "    </tr>\n",
       "    <tr>\n",
       "      <th>26</th>\n",
       "      <td>Macedonia</td>\n",
       "      <td>5.606250</td>\n",
       "      <td>12</td>\n",
       "    </tr>\n",
       "    <tr>\n",
       "      <th>32</th>\n",
       "      <td>Portugal</td>\n",
       "      <td>5.519209</td>\n",
       "      <td>4875</td>\n",
       "    </tr>\n",
       "    <tr>\n",
       "      <th>11</th>\n",
       "      <td>Cyprus</td>\n",
       "      <td>5.514749</td>\n",
       "      <td>11</td>\n",
       "    </tr>\n",
       "    <tr>\n",
       "      <th>35</th>\n",
       "      <td>Slovakia</td>\n",
       "      <td>5.437500</td>\n",
       "      <td>1</td>\n",
       "    </tr>\n",
       "    <tr>\n",
       "      <th>0</th>\n",
       "      <td>Argentina</td>\n",
       "      <td>5.171533</td>\n",
       "      <td>3756</td>\n",
       "    </tr>\n",
       "    <tr>\n",
       "      <th>16</th>\n",
       "      <td>Georgia</td>\n",
       "      <td>5.122236</td>\n",
       "      <td>91</td>\n",
       "    </tr>\n",
       "    <tr>\n",
       "      <th>37</th>\n",
       "      <td>South Africa</td>\n",
       "      <td>4.991244</td>\n",
       "      <td>1296</td>\n",
       "    </tr>\n",
       "    <tr>\n",
       "      <th>9</th>\n",
       "      <td>China</td>\n",
       "      <td>4.944444</td>\n",
       "      <td>1</td>\n",
       "    </tr>\n",
       "    <tr>\n",
       "      <th>38</th>\n",
       "      <td>Spain</td>\n",
       "      <td>4.941238</td>\n",
       "      <td>6573</td>\n",
       "    </tr>\n",
       "    <tr>\n",
       "      <th>29</th>\n",
       "      <td>Morocco</td>\n",
       "      <td>4.836485</td>\n",
       "      <td>28</td>\n",
       "    </tr>\n",
       "    <tr>\n",
       "      <th>18</th>\n",
       "      <td>Greece</td>\n",
       "      <td>4.626087</td>\n",
       "      <td>466</td>\n",
       "    </tr>\n",
       "    <tr>\n",
       "      <th>36</th>\n",
       "      <td>Slovenia</td>\n",
       "      <td>4.562877</td>\n",
       "      <td>80</td>\n",
       "    </tr>\n",
       "    <tr>\n",
       "      <th>12</th>\n",
       "      <td>Czech Republic</td>\n",
       "      <td>4.286806</td>\n",
       "      <td>12</td>\n",
       "    </tr>\n",
       "    <tr>\n",
       "      <th>5</th>\n",
       "      <td>Brazil</td>\n",
       "      <td>4.244852</td>\n",
       "      <td>47</td>\n",
       "    </tr>\n",
       "    <tr>\n",
       "      <th>2</th>\n",
       "      <td>Australia</td>\n",
       "      <td>4.243219</td>\n",
       "      <td>2294</td>\n",
       "    </tr>\n",
       "    <tr>\n",
       "      <th>43</th>\n",
       "      <td>Uruguay</td>\n",
       "      <td>4.196072</td>\n",
       "      <td>113</td>\n",
       "    </tr>\n",
       "    <tr>\n",
       "      <th>30</th>\n",
       "      <td>New Zealand</td>\n",
       "      <td>4.151508</td>\n",
       "      <td>1380</td>\n",
       "    </tr>\n",
       "    <tr>\n",
       "      <th>40</th>\n",
       "      <td>Turkey</td>\n",
       "      <td>4.147816</td>\n",
       "      <td>91</td>\n",
       "    </tr>\n",
       "    <tr>\n",
       "      <th>27</th>\n",
       "      <td>Mexico</td>\n",
       "      <td>4.143799</td>\n",
       "      <td>70</td>\n",
       "    </tr>\n",
       "    <tr>\n",
       "      <th>10</th>\n",
       "      <td>Croatia</td>\n",
       "      <td>4.117756</td>\n",
       "      <td>71</td>\n",
       "    </tr>\n",
       "    <tr>\n",
       "      <th>34</th>\n",
       "      <td>Serbia</td>\n",
       "      <td>4.072111</td>\n",
       "      <td>12</td>\n",
       "    </tr>\n",
       "    <tr>\n",
       "      <th>25</th>\n",
       "      <td>Luxembourg</td>\n",
       "      <td>3.943666</td>\n",
       "      <td>6</td>\n",
       "    </tr>\n",
       "    <tr>\n",
       "      <th>15</th>\n",
       "      <td>France</td>\n",
       "      <td>3.837816</td>\n",
       "      <td>17776</td>\n",
       "    </tr>\n",
       "    <tr>\n",
       "      <th>3</th>\n",
       "      <td>Austria</td>\n",
       "      <td>3.812679</td>\n",
       "      <td>2808</td>\n",
       "    </tr>\n",
       "    <tr>\n",
       "      <th>17</th>\n",
       "      <td>Germany</td>\n",
       "      <td>3.707988</td>\n",
       "      <td>2120</td>\n",
       "    </tr>\n",
       "    <tr>\n",
       "      <th>21</th>\n",
       "      <td>Israel</td>\n",
       "      <td>3.693859</td>\n",
       "      <td>493</td>\n",
       "    </tr>\n",
       "    <tr>\n",
       "      <th>24</th>\n",
       "      <td>Lebanon</td>\n",
       "      <td>3.643752</td>\n",
       "      <td>35</td>\n",
       "    </tr>\n",
       "    <tr>\n",
       "      <th>19</th>\n",
       "      <td>Hungary</td>\n",
       "      <td>3.565586</td>\n",
       "      <td>149</td>\n",
       "    </tr>\n",
       "    <tr>\n",
       "      <th>22</th>\n",
       "      <td>Italy</td>\n",
       "      <td>3.475651</td>\n",
       "      <td>16914</td>\n",
       "    </tr>\n",
       "    <tr>\n",
       "      <th>41</th>\n",
       "      <td>US</td>\n",
       "      <td>3.344595</td>\n",
       "      <td>54267</td>\n",
       "    </tr>\n",
       "    <tr>\n",
       "      <th>7</th>\n",
       "      <td>Canada</td>\n",
       "      <td>3.147537</td>\n",
       "      <td>253</td>\n",
       "    </tr>\n",
       "    <tr>\n",
       "      <th>39</th>\n",
       "      <td>Switzerland</td>\n",
       "      <td>2.323662</td>\n",
       "      <td>9</td>\n",
       "    </tr>\n",
       "    <tr>\n",
       "      <th>14</th>\n",
       "      <td>England</td>\n",
       "      <td>1.913598</td>\n",
       "      <td>69</td>\n",
       "    </tr>\n",
       "    <tr>\n",
       "      <th>13</th>\n",
       "      <td>Egypt</td>\n",
       "      <td>NaN</td>\n",
       "      <td>0</td>\n",
       "    </tr>\n",
       "  </tbody>\n",
       "</table>\n",
       "</div>"
      ],
      "text/plain": [
       "                   country       mean  count\n",
       "23                  Kosovo  10.627622      4\n",
       "42                 Ukraine   9.671551     14\n",
       "33                 Romania   8.873497    120\n",
       "20                   India   7.129465      9\n",
       "4   Bosnia and Herzegovina   6.935897      2\n",
       "6                 Bulgaria   6.809304    151\n",
       "28                 Moldova   6.554833     59\n",
       "1                  Armenia   6.040476      2\n",
       "8                    Chile   5.772730   4419\n",
       "31                    Peru   5.629018     16\n",
       "26               Macedonia   5.606250     12\n",
       "32                Portugal   5.519209   4875\n",
       "11                  Cyprus   5.514749     11\n",
       "35                Slovakia   5.437500      1\n",
       "0                Argentina   5.171533   3756\n",
       "16                 Georgia   5.122236     91\n",
       "37            South Africa   4.991244   1296\n",
       "9                    China   4.944444      1\n",
       "38                   Spain   4.941238   6573\n",
       "29                 Morocco   4.836485     28\n",
       "18                  Greece   4.626087    466\n",
       "36                Slovenia   4.562877     80\n",
       "12          Czech Republic   4.286806     12\n",
       "5                   Brazil   4.244852     47\n",
       "2                Australia   4.243219   2294\n",
       "43                 Uruguay   4.196072    113\n",
       "30             New Zealand   4.151508   1380\n",
       "40                  Turkey   4.147816     91\n",
       "27                  Mexico   4.143799     70\n",
       "10                 Croatia   4.117756     71\n",
       "34                  Serbia   4.072111     12\n",
       "25              Luxembourg   3.943666      6\n",
       "15                  France   3.837816  17776\n",
       "3                  Austria   3.812679   2808\n",
       "17                 Germany   3.707988   2120\n",
       "21                  Israel   3.693859    493\n",
       "24                 Lebanon   3.643752     35\n",
       "19                 Hungary   3.565586    149\n",
       "22                   Italy   3.475651  16914\n",
       "41                      US   3.344595  54267\n",
       "7                   Canada   3.147537    253\n",
       "39             Switzerland   2.323662      9\n",
       "14                 England   1.913598     69\n",
       "13                   Egypt        NaN      0"
      ]
     },
     "execution_count": 123,
     "metadata": {},
     "output_type": "execute_result"
    }
   ],
   "source": [
    "quality_for_money_per_country"
   ]
  },
  {
   "cell_type": "code",
   "execution_count": 107,
   "id": "609e4494",
   "metadata": {},
   "outputs": [],
   "source": [
    "wines_tastings_per_country = df.groupby('country').title.agg('count').reset_index()"
   ]
  },
  {
   "cell_type": "code",
   "execution_count": 120,
   "id": "d92b217d",
   "metadata": {},
   "outputs": [],
   "source": [
    "top_10_producing_countries = wines_tastings_per_country.sort_values(by='title', ascending=False)[:11]['country'].tolist()"
   ]
  },
  {
   "cell_type": "code",
   "execution_count": 121,
   "id": "c9658274",
   "metadata": {},
   "outputs": [
    {
     "data": {
      "text/plain": [
       "['US',\n",
       " 'France',\n",
       " 'Italy',\n",
       " 'Spain',\n",
       " 'Portugal',\n",
       " 'Chile',\n",
       " 'Argentina',\n",
       " 'Austria',\n",
       " 'Australia',\n",
       " 'Germany',\n",
       " 'New Zealand']"
      ]
     },
     "execution_count": 121,
     "metadata": {},
     "output_type": "execute_result"
    }
   ],
   "source": [
    "top_10_producing_countries"
   ]
  },
  {
   "cell_type": "code",
   "execution_count": 125,
   "id": "a46d35df",
   "metadata": {},
   "outputs": [
    {
     "data": {
      "text/html": [
       "<div>\n",
       "<style scoped>\n",
       "    .dataframe tbody tr th:only-of-type {\n",
       "        vertical-align: middle;\n",
       "    }\n",
       "\n",
       "    .dataframe tbody tr th {\n",
       "        vertical-align: top;\n",
       "    }\n",
       "\n",
       "    .dataframe thead th {\n",
       "        text-align: right;\n",
       "    }\n",
       "</style>\n",
       "<table border=\"1\" class=\"dataframe\">\n",
       "  <thead>\n",
       "    <tr style=\"text-align: right;\">\n",
       "      <th></th>\n",
       "      <th>country</th>\n",
       "      <th>mean</th>\n",
       "      <th>count</th>\n",
       "    </tr>\n",
       "  </thead>\n",
       "  <tbody>\n",
       "    <tr>\n",
       "      <th>8</th>\n",
       "      <td>Chile</td>\n",
       "      <td>5.772730</td>\n",
       "      <td>4419</td>\n",
       "    </tr>\n",
       "    <tr>\n",
       "      <th>32</th>\n",
       "      <td>Portugal</td>\n",
       "      <td>5.519209</td>\n",
       "      <td>4875</td>\n",
       "    </tr>\n",
       "    <tr>\n",
       "      <th>0</th>\n",
       "      <td>Argentina</td>\n",
       "      <td>5.171533</td>\n",
       "      <td>3756</td>\n",
       "    </tr>\n",
       "    <tr>\n",
       "      <th>38</th>\n",
       "      <td>Spain</td>\n",
       "      <td>4.941238</td>\n",
       "      <td>6573</td>\n",
       "    </tr>\n",
       "    <tr>\n",
       "      <th>2</th>\n",
       "      <td>Australia</td>\n",
       "      <td>4.243219</td>\n",
       "      <td>2294</td>\n",
       "    </tr>\n",
       "    <tr>\n",
       "      <th>30</th>\n",
       "      <td>New Zealand</td>\n",
       "      <td>4.151508</td>\n",
       "      <td>1380</td>\n",
       "    </tr>\n",
       "    <tr>\n",
       "      <th>15</th>\n",
       "      <td>France</td>\n",
       "      <td>3.837816</td>\n",
       "      <td>17776</td>\n",
       "    </tr>\n",
       "    <tr>\n",
       "      <th>3</th>\n",
       "      <td>Austria</td>\n",
       "      <td>3.812679</td>\n",
       "      <td>2808</td>\n",
       "    </tr>\n",
       "    <tr>\n",
       "      <th>17</th>\n",
       "      <td>Germany</td>\n",
       "      <td>3.707988</td>\n",
       "      <td>2120</td>\n",
       "    </tr>\n",
       "    <tr>\n",
       "      <th>22</th>\n",
       "      <td>Italy</td>\n",
       "      <td>3.475651</td>\n",
       "      <td>16914</td>\n",
       "    </tr>\n",
       "    <tr>\n",
       "      <th>41</th>\n",
       "      <td>US</td>\n",
       "      <td>3.344595</td>\n",
       "      <td>54267</td>\n",
       "    </tr>\n",
       "  </tbody>\n",
       "</table>\n",
       "</div>"
      ],
      "text/plain": [
       "        country      mean  count\n",
       "8         Chile  5.772730   4419\n",
       "32     Portugal  5.519209   4875\n",
       "0     Argentina  5.171533   3756\n",
       "38        Spain  4.941238   6573\n",
       "2     Australia  4.243219   2294\n",
       "30  New Zealand  4.151508   1380\n",
       "15       France  3.837816  17776\n",
       "3       Austria  3.812679   2808\n",
       "17      Germany  3.707988   2120\n",
       "22        Italy  3.475651  16914\n",
       "41           US  3.344595  54267"
      ]
     },
     "execution_count": 125,
     "metadata": {},
     "output_type": "execute_result"
    }
   ],
   "source": [
    "quality_for_money_per_country[quality_for_money_per_country['country'].isin(top_10_producing_countries)]"
   ]
  },
  {
   "cell_type": "markdown",
   "id": "4900bb74",
   "metadata": {},
   "source": [
    "**Which quantitative variable correlates best with the score of a wine?**"
   ]
  },
  {
   "cell_type": "code",
   "execution_count": 192,
   "id": "e19ea339",
   "metadata": {},
   "outputs": [],
   "source": [
    "df_no_nv = df.drop(df[df.vintage.isnull()].index).drop('quality_for_money', axis=1)"
   ]
  },
  {
   "cell_type": "code",
   "execution_count": 193,
   "id": "6fa33a8f",
   "metadata": {},
   "outputs": [
    {
     "data": {
      "image/png": "[encoded data removed]",
      "text/plain": [
       "<Figure size 432x288 with 2 Axes>"
      ]
     },
     "metadata": {
      "needs_background": "light"
     },
     "output_type": "display_data"
    }
   ],
   "source": [
    "corrMatrix = df_no_nv.corr()\n",
    "sn.heatmap(corrMatrix, annot=True)\n",
    "plt.show()"
   ]
  },
  {
   "cell_type": "markdown",
   "id": "c8a83ba4",
   "metadata": {},
   "source": [
    "**How well can we predict the average score of a wine from this dataset with a linear regression model?**"
   ]
  },
  {
   "cell_type": "markdown",
   "id": "d22a18d7",
   "metadata": {},
   "source": [
    "To answer this question we first need to aggregate the average score of every wine in the list."
   ]
  },
  {
   "cell_type": "code",
   "execution_count": 220,
   "id": "d2e5507c",
   "metadata": {},
   "outputs": [],
   "source": [
    "df_new = df.groupby(['title', 'vintage']).agg({'country': 'first',\n",
    "                                               'points': 'mean',\n",
    "                                               'price':'first',\n",
    "                                               'region_1': 'first',\n",
    "                                               'region_2': 'first',\n",
    "                                               'winery': 'first',\n",
    "                                               'variety': 'first'}).reset_index(col_level=1)"
   ]
  },
  {
   "cell_type": "code",
   "execution_count": 221,
   "id": "984e0ecc",
   "metadata": {},
   "outputs": [
    {
     "data": {
      "text/html": [
       "<div>\n",
       "<style scoped>\n",
       "    .dataframe tbody tr th:only-of-type {\n",
       "        vertical-align: middle;\n",
       "    }\n",
       "\n",
       "    .dataframe tbody tr th {\n",
       "        vertical-align: top;\n",
       "    }\n",
       "\n",
       "    .dataframe thead th {\n",
       "        text-align: right;\n",
       "    }\n",
       "</style>\n",
       "<table border=\"1\" class=\"dataframe\">\n",
       "  <thead>\n",
       "    <tr style=\"text-align: right;\">\n",
       "      <th></th>\n",
       "      <th>title</th>\n",
       "      <th>vintage</th>\n",
       "      <th>country</th>\n",
       "      <th>points</th>\n",
       "      <th>price</th>\n",
       "      <th>region_1</th>\n",
       "      <th>region_2</th>\n",
       "      <th>winery</th>\n",
       "      <th>variety</th>\n",
       "    </tr>\n",
       "  </thead>\n",
       "  <tbody>\n",
       "    <tr>\n",
       "      <th>0</th>\n",
       "      <td>1+1=3 2008 Rosé Cabernet Sauvignon (Penedès)</td>\n",
       "      <td>2008.0</td>\n",
       "      <td>Spain</td>\n",
       "      <td>82.0</td>\n",
       "      <td>18.0</td>\n",
       "      <td>Penedès</td>\n",
       "      <td>None</td>\n",
       "      <td>1+1=3</td>\n",
       "      <td>Cabernet Sauvignon</td>\n",
       "    </tr>\n",
       "    <tr>\n",
       "      <th>1</th>\n",
       "      <td>10 Knots 2006 Beachcomber White (Paso Robles)</td>\n",
       "      <td>2006.0</td>\n",
       "      <td>US</td>\n",
       "      <td>83.0</td>\n",
       "      <td>21.0</td>\n",
       "      <td>Paso Robles</td>\n",
       "      <td>Central Coast</td>\n",
       "      <td>10 Knots</td>\n",
       "      <td>Rhône-style White Blend</td>\n",
       "    </tr>\n",
       "    <tr>\n",
       "      <th>2</th>\n",
       "      <td>10 Knots 2006 Chardonnay (Santa Barbara County)</td>\n",
       "      <td>2006.0</td>\n",
       "      <td>US</td>\n",
       "      <td>85.0</td>\n",
       "      <td>21.0</td>\n",
       "      <td>Santa Barbara County</td>\n",
       "      <td>Central Coast</td>\n",
       "      <td>10 Knots</td>\n",
       "      <td>Chardonnay</td>\n",
       "    </tr>\n",
       "    <tr>\n",
       "      <th>3</th>\n",
       "      <td>10 Knots 2009 Moonraker Grenache (Paso Robles)</td>\n",
       "      <td>2009.0</td>\n",
       "      <td>US</td>\n",
       "      <td>81.0</td>\n",
       "      <td>35.0</td>\n",
       "      <td>Paso Robles</td>\n",
       "      <td>Central Coast</td>\n",
       "      <td>10 Knots</td>\n",
       "      <td>Grenache</td>\n",
       "    </tr>\n",
       "    <tr>\n",
       "      <th>4</th>\n",
       "      <td>10 Knots 2010 Viognier (Paso Robles)</td>\n",
       "      <td>2010.0</td>\n",
       "      <td>US</td>\n",
       "      <td>84.0</td>\n",
       "      <td>22.0</td>\n",
       "      <td>Paso Robles</td>\n",
       "      <td>Central Coast</td>\n",
       "      <td>10 Knots</td>\n",
       "      <td>Viognier</td>\n",
       "    </tr>\n",
       "    <tr>\n",
       "      <th>...</th>\n",
       "      <td>...</td>\n",
       "      <td>...</td>\n",
       "      <td>...</td>\n",
       "      <td>...</td>\n",
       "      <td>...</td>\n",
       "      <td>...</td>\n",
       "      <td>...</td>\n",
       "      <td>...</td>\n",
       "      <td>...</td>\n",
       "    </tr>\n",
       "    <tr>\n",
       "      <th>115224</th>\n",
       "      <td>àMaurice 2014 Boushey Vineyard Syrah (Yakima V...</td>\n",
       "      <td>2014.0</td>\n",
       "      <td>US</td>\n",
       "      <td>89.0</td>\n",
       "      <td>45.0</td>\n",
       "      <td>Yakima Valley</td>\n",
       "      <td>Columbia Valley</td>\n",
       "      <td>àMaurice</td>\n",
       "      <td>Syrah</td>\n",
       "    </tr>\n",
       "    <tr>\n",
       "      <th>115225</th>\n",
       "      <td>àMaurice 2014 Fred Estate Syrah (Walla Walla V...</td>\n",
       "      <td>2014.0</td>\n",
       "      <td>US</td>\n",
       "      <td>88.0</td>\n",
       "      <td>45.0</td>\n",
       "      <td>Walla Walla Valley (WA)</td>\n",
       "      <td>Columbia Valley</td>\n",
       "      <td>àMaurice</td>\n",
       "      <td>Syrah</td>\n",
       "    </tr>\n",
       "    <tr>\n",
       "      <th>115226</th>\n",
       "      <td>Štoka 2009 Izbrani Teran (Kras)</td>\n",
       "      <td>2009.0</td>\n",
       "      <td>Slovenia</td>\n",
       "      <td>88.0</td>\n",
       "      <td>20.0</td>\n",
       "      <td>None</td>\n",
       "      <td>None</td>\n",
       "      <td>Štoka</td>\n",
       "      <td>Teran</td>\n",
       "    </tr>\n",
       "    <tr>\n",
       "      <th>115227</th>\n",
       "      <td>Štoka 2011 Grganja Vitovska (Kras)</td>\n",
       "      <td>2011.0</td>\n",
       "      <td>Slovenia</td>\n",
       "      <td>90.0</td>\n",
       "      <td>23.0</td>\n",
       "      <td>None</td>\n",
       "      <td>None</td>\n",
       "      <td>Štoka</td>\n",
       "      <td>Vitovska</td>\n",
       "    </tr>\n",
       "    <tr>\n",
       "      <th>115228</th>\n",
       "      <td>Štoka 2011 Izbrani Teran (Kras)</td>\n",
       "      <td>2011.0</td>\n",
       "      <td>Slovenia</td>\n",
       "      <td>90.0</td>\n",
       "      <td>23.0</td>\n",
       "      <td>None</td>\n",
       "      <td>None</td>\n",
       "      <td>Štoka</td>\n",
       "      <td>Teran</td>\n",
       "    </tr>\n",
       "  </tbody>\n",
       "</table>\n",
       "<p>115229 rows × 9 columns</p>\n",
       "</div>"
      ],
      "text/plain": [
       "                                                    title  vintage   country  \\\n",
       "0            1+1=3 2008 Rosé Cabernet Sauvignon (Penedès)   2008.0     Spain   \n",
       "1           10 Knots 2006 Beachcomber White (Paso Robles)   2006.0        US   \n",
       "2         10 Knots 2006 Chardonnay (Santa Barbara County)   2006.0        US   \n",
       "3          10 Knots 2009 Moonraker Grenache (Paso Robles)   2009.0        US   \n",
       "4                    10 Knots 2010 Viognier (Paso Robles)   2010.0        US   \n",
       "...                                                   ...      ...       ...   \n",
       "115224  àMaurice 2014 Boushey Vineyard Syrah (Yakima V...   2014.0        US   \n",
       "115225  àMaurice 2014 Fred Estate Syrah (Walla Walla V...   2014.0        US   \n",
       "115226                    Štoka 2009 Izbrani Teran (Kras)   2009.0  Slovenia   \n",
       "115227                 Štoka 2011 Grganja Vitovska (Kras)   2011.0  Slovenia   \n",
       "115228                    Štoka 2011 Izbrani Teran (Kras)   2011.0  Slovenia   \n",
       "\n",
       "        points  price                 region_1         region_2    winery  \\\n",
       "0         82.0   18.0                  Penedès             None     1+1=3   \n",
       "1         83.0   21.0              Paso Robles    Central Coast  10 Knots   \n",
       "2         85.0   21.0     Santa Barbara County    Central Coast  10 Knots   \n",
       "3         81.0   35.0              Paso Robles    Central Coast  10 Knots   \n",
       "4         84.0   22.0              Paso Robles    Central Coast  10 Knots   \n",
       "...        ...    ...                      ...              ...       ...   \n",
       "115224    89.0   45.0            Yakima Valley  Columbia Valley  àMaurice   \n",
       "115225    88.0   45.0  Walla Walla Valley (WA)  Columbia Valley  àMaurice   \n",
       "115226    88.0   20.0                     None             None     Štoka   \n",
       "115227    90.0   23.0                     None             None     Štoka   \n",
       "115228    90.0   23.0                     None             None     Štoka   \n",
       "\n",
       "                        variety  \n",
       "0            Cabernet Sauvignon  \n",
       "1       Rhône-style White Blend  \n",
       "2                    Chardonnay  \n",
       "3                      Grenache  \n",
       "4                      Viognier  \n",
       "...                         ...  \n",
       "115224                    Syrah  \n",
       "115225                    Syrah  \n",
       "115226                    Teran  \n",
       "115227                 Vitovska  \n",
       "115228                    Teran  \n",
       "\n",
       "[115229 rows x 9 columns]"
      ]
     },
     "execution_count": 221,
     "metadata": {},
     "output_type": "execute_result"
    }
   ],
   "source": [
    "df_new"
   ]
  },
  {
   "cell_type": "code",
   "execution_count": 222,
   "id": "ebd59bd3",
   "metadata": {},
   "outputs": [
    {
     "data": {
      "text/plain": [
       "title       0.000000\n",
       "vintage     0.000000\n",
       "country     0.000000\n",
       "points      0.000000\n",
       "price       0.067934\n",
       "region_1    0.164906\n",
       "region_2    0.601047\n",
       "winery      0.000000\n",
       "variety     0.000000\n",
       "dtype: float64"
      ]
     },
     "execution_count": 222,
     "metadata": {},
     "output_type": "execute_result"
    }
   ],
   "source": [
    "df_new.isnull().sum()/df_new.shape[0]"
   ]
  },
  {
   "cell_type": "code",
   "execution_count": 223,
   "id": "33884532",
   "metadata": {},
   "outputs": [],
   "source": [
    "df_new = df_new.dropna(subset=['price'])"
   ]
  },
  {
   "cell_type": "code",
   "execution_count": 224,
   "id": "2bbdf3a3",
   "metadata": {},
   "outputs": [
    {
     "data": {
      "text/plain": [
       "title       0.000000\n",
       "vintage     0.000000\n",
       "country     0.000000\n",
       "points      0.000000\n",
       "price       0.000000\n",
       "region_1    0.163509\n",
       "region_2    0.573794\n",
       "winery      0.000000\n",
       "variety     0.000000\n",
       "dtype: float64"
      ]
     },
     "execution_count": 224,
     "metadata": {},
     "output_type": "execute_result"
    }
   ],
   "source": [
    "df_new.isnull().sum()/df_new.shape[0]"
   ]
  },
  {
   "cell_type": "code",
   "execution_count": 225,
   "id": "a5e69af3",
   "metadata": {},
   "outputs": [
    {
     "name": "stderr",
     "output_type": "stream",
     "text": [
      "C:\\Users\\julie\\anaconda3\\lib\\site-packages\\pandas\\core\\frame.py:4906: SettingWithCopyWarning: \n",
      "A value is trying to be set on a copy of a slice from a DataFrame\n",
      "\n",
      "See the caveats in the documentation: https://pandas.pydata.org/pandas-docs/stable/user_guide/indexing.html#returning-a-view-versus-a-copy\n",
      "  return super().drop(\n"
     ]
    }
   ],
   "source": [
    "df_new.drop(columns=['region_2', 'title', 'winery'], inplace=True)"
   ]
  },
  {
   "cell_type": "code",
   "execution_count": 226,
   "id": "d93d9eaa",
   "metadata": {},
   "outputs": [
    {
     "data": {
      "text/plain": [
       "vintage     0.000000\n",
       "country     0.000000\n",
       "points      0.000000\n",
       "price       0.000000\n",
       "region_1    0.163509\n",
       "variety     0.000000\n",
       "dtype: float64"
      ]
     },
     "execution_count": 226,
     "metadata": {},
     "output_type": "execute_result"
    }
   ],
   "source": [
    "df_new.isnull().sum()/df_new.shape[0]"
   ]
  },
  {
   "cell_type": "code",
   "execution_count": 227,
   "id": "9fd6b96d",
   "metadata": {},
   "outputs": [],
   "source": [
    "def create_dummy_df(df, cat_cols, dummy_na):\n",
    "    '''\n",
    "    INPUT:\n",
    "    df - pandas dataframe with categorical variables you want to dummy\n",
    "    cat_cols - list of strings that are associated with names of the categorical columns\n",
    "    dummy_na - Bool holding whether you want to dummy NA vals of categorical columns or not\n",
    "    \n",
    "    OUTPUT:\n",
    "    df - a new dataframe that has the following characteristics:\n",
    "            1. contains all columns that were not specified as categorical\n",
    "            2. removes all the original columns in cat_cols\n",
    "            3. dummy columns for each of the categorical columns in cat_cols\n",
    "            4. if dummy_na is True - it also contains dummy columns for the NaN values\n",
    "            5. Use a prefix of the column name with an underscore (_) for separating \n",
    "    '''\n",
    "    for col in cat_cols:\n",
    "        df = pd.concat([df.drop(col, axis=1), pd.get_dummies(df[col], prefix=col, prefix_sep='_', drop_first=True, dummy_na=dummy_na)], axis=1)\n",
    "    return df"
   ]
  },
  {
   "cell_type": "code",
   "execution_count": 228,
   "id": "d60c31e8",
   "metadata": {},
   "outputs": [],
   "source": [
    "cat_df = df_new.select_dtypes(include=['object']) \n",
    "df_new = create_dummy_df(df_new, cat_df, dummy_na=True)"
   ]
  },
  {
   "cell_type": "code",
   "execution_count": 229,
   "id": "d7bdcddf",
   "metadata": {},
   "outputs": [
    {
     "data": {
      "text/plain": [
       "LinearRegression(normalize=True)"
      ]
     },
     "execution_count": 229,
     "metadata": {},
     "output_type": "execute_result"
    }
   ],
   "source": [
    "X = df_new.loc[:, df_new.columns != 'points']\n",
    "y = df_new['points']\n",
    "\n",
    "X_train, X_test, y_train, y_test = train_test_split(X, y, test_size = .30, random_state=10)\n",
    "\n",
    "lm_model = LinearRegression(normalize=True)\n",
    "\n",
    "lm_model.fit(X_train, y_train)"
   ]
  },
  {
   "cell_type": "code",
   "execution_count": 230,
   "id": "0778f6ce",
   "metadata": {},
   "outputs": [],
   "source": [
    "y_test_preds = lm_model.predict(X_test)"
   ]
  },
  {
   "cell_type": "code",
   "execution_count": 231,
   "id": "908147f8",
   "metadata": {},
   "outputs": [
    {
     "data": {
      "text/plain": [
       "-1.746617603025279e+26"
      ]
     },
     "execution_count": 231,
     "metadata": {},
     "output_type": "execute_result"
    }
   ],
   "source": [
    "r2_score(y_test, y_test_preds)"
   ]
  },
  {
   "cell_type": "code",
   "execution_count": 232,
   "id": "dee6d880",
   "metadata": {},
   "outputs": [
    {
     "data": {
      "text/plain": [
       "0.3831847758970701"
      ]
     },
     "execution_count": 232,
     "metadata": {},
     "output_type": "execute_result"
    }
   ],
   "source": [
    "y_train_preds = lm_model.predict(X_train)\n",
    "r2_score(y_train, y_train_preds)"
   ]
  },
  {
   "cell_type": "code",
   "execution_count": null,
   "id": "3ed753a1",
   "metadata": {},
   "outputs": [],
   "source": []
  }
 ],
 "metadata": {
  "kernelspec": {
   "display_name": "Python 3 (ipykernel)",
   "language": "python",
   "name": "python3"
  },
  "language_info": {
   "codemirror_mode": {
    "name": "ipython",
    "version": 3
   },
   "file_extension": ".py",
   "mimetype": "text/x-python",
   "name": "python",
   "nbconvert_exporter": "python",
   "pygments_lexer": "ipython3",
   "version": "3.9.7"
  }
 },
 "nbformat": 4,
 "nbformat_minor": 5
}
